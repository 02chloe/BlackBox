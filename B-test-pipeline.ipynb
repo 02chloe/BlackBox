{
 "cells": [
  {
   "cell_type": "code",
   "execution_count": null,
   "id": "724aee74-9b11-4d3f-8fe3-e67c6e8b2a05",
   "metadata": {},
   "outputs": [],
   "source": [
    "# tmm gse dataloader"
   ]
  },
  {
   "cell_type": "code",
   "execution_count": 3,
   "id": "07d0f39e-f008-45de-8d80-80585fb2fadc",
   "metadata": {},
   "outputs": [
    {
     "name": "stdout",
     "output_type": "stream",
     "text": [
      "使用设备：cuda\n",
      "✅ 数据加载器创建成功，测试集样本数：288\n",
      "✅ 数据格式验证通过：torch.Size([2, 3, 640, 640])\n",
      "✅ DETR模型加载成功，实际输出类别数：92\n",
      "✅ TMM已移除所有hook\n",
      "✅ TMM已注册24个hook（6 encoder + 6 decoder）\n",
      "✅ 采样策略：categorical（符合论文设置）\n",
      "✅ TMM已移除所有hook\n",
      "✅ TMM模块与模型协同成功\n",
      "✅ GSE模块与模型协同成功\n",
      "\n",
      "🎉 所有组件协同测试通过！\n",
      "验证结论：inria_dataloader.py、gse.py、tmm.py、DETR模型与数据集完全兼容\n"
     ]
    }
   ],
   "source": [
    "import os\n",
    "import torch\n",
    "from inria_dataloader import get_inria_dataloader\n",
    "from gse import GradientSelfEnsemble\n",
    "from tmm import TransformerMaskingMatrix\n",
    "\n",
    "def test_full_pipeline():\n",
    "    data_root = \"/opt/data/private/BlackBox/data/INRIAPerson/\"\n",
    "    detr_model_dir = \"/opt/data/private/BlackBox/detr\"\n",
    "    batch_size = 2\n",
    "    device = \"cuda\" if torch.cuda.is_available() else \"cpu\"\n",
    "    print(f\"使用设备：{device}\")\n",
    "\n",
    "    # 测试数据加载\n",
    "    try:\n",
    "        dataloader = get_inria_dataloader(\n",
    "            data_root=data_root,\n",
    "            split=\"Test\",\n",
    "            batch_size=batch_size,\n",
    "            num_workers=0\n",
    "        )\n",
    "        print(f\"✅ 数据加载器创建成功，测试集样本数：{len(dataloader.dataset)}\")\n",
    "        img_batch, _ = next(iter(dataloader))\n",
    "        assert img_batch.shape == (batch_size, 3, 640, 640), \\\n",
    "            f\"数据格式错误，预期{(batch_size,3,640,640)}，实际{img_batch.shape}\"\n",
    "        print(f\"✅ 数据格式验证通过：{img_batch.shape}\")\n",
    "    except Exception as e:\n",
    "        print(f\"❌ 数据加载失败：{e}\")\n",
    "        return\n",
    "\n",
    "    # 测试DETR模型加载及输出类别数\n",
    "    try:\n",
    "        model = torch.hub.load(\n",
    "            detr_model_dir,\n",
    "            \"detr_resnet50\",\n",
    "            pretrained=True,\n",
    "            source=\"local\"\n",
    "        )\n",
    "        model.to(device)\n",
    "        model.eval()\n",
    "        # 验证模型原始输出类别数\n",
    "        with torch.no_grad():\n",
    "            img_batch_cuda = img_batch.to(device)\n",
    "            orig_outputs = model(img_batch_cuda)\n",
    "            num_classes = orig_outputs['pred_logits'].shape[-1]\n",
    "        print(f\"✅ DETR模型加载成功，实际输出类别数：{num_classes}\")\n",
    "    except Exception as e:\n",
    "        print(f\"❌ DETR模型加载失败：{e}\")\n",
    "        return\n",
    "\n",
    "    # 测试TMM模块\n",
    "    try:\n",
    "        tmm = TransformerMaskingMatrix(\n",
    "            num_enc_layers=6,\n",
    "            num_dec_layers=6,\n",
    "            p_base=0.2\n",
    "        )\n",
    "        tmm.register_hooks(model)\n",
    "        with torch.no_grad():\n",
    "            outputs_tmm = model(img_batch_cuda)\n",
    "        assert \"pred_logits\" in outputs_tmm, \"TMM输出格式错误\"\n",
    "        tmm.remove_hooks()\n",
    "        print(\"✅ TMM模块与模型协同成功\")\n",
    "    except Exception as e:\n",
    "        print(f\"❌ TMM模块测试失败：{e}\")\n",
    "        return\n",
    "\n",
    "    # 测试GSE模块（适配实际类别数）\n",
    "    try:\n",
    "        gse = GradientSelfEnsemble(model)\n",
    "        img_list = [img_batch_cuda[i] for i in range(batch_size)]\n",
    "        with torch.no_grad():\n",
    "            gse_logits = gse(img_list, return_all_layers=False)\n",
    "        # 按模型实际类别数验证\n",
    "        assert gse_logits.shape == (batch_size, 100, num_classes), \\\n",
    "            f\"GSE输出格式错误，预期{(batch_size,100,num_classes)}，实际{gse_logits.shape}\"\n",
    "        print(\"✅ GSE模块与模型协同成功\")\n",
    "    except Exception as e:\n",
    "        print(f\"❌ GSE模块测试失败：{e}\")\n",
    "        return\n",
    "\n",
    "    print(\"\\n🎉 所有组件协同测试通过！\")\n",
    "    print(\"验证结论：inria_dataloader.py、gse.py、tmm.py、DETR模型与数据集完全兼容\")\n",
    "\n",
    "if __name__ == \"__main__\":\n",
    "    torch.manual_seed(42)\n",
    "    if torch.cuda.is_available():\n",
    "        torch.cuda.manual_seed(42)\n",
    "    test_full_pipeline()"
   ]
  },
  {
   "cell_type": "code",
   "execution_count": null,
   "id": "0788c544-ad7b-4ea8-8c00-48b5af52b8b3",
   "metadata": {},
   "outputs": [],
   "source": []
  },
  {
   "cell_type": "code",
   "execution_count": null,
   "id": "eb8beeec-c3dd-45ec-9c6f-67f18ada80d5",
   "metadata": {},
   "outputs": [],
   "source": []
  },
  {
   "cell_type": "code",
   "execution_count": null,
   "id": "85ebd471-91ee-4c35-9511-4f56c506e61d",
   "metadata": {},
   "outputs": [],
   "source": []
  },
  {
   "cell_type": "code",
   "execution_count": null,
   "id": "3a3bde28-003f-4b71-a6d0-50b181c180e4",
   "metadata": {},
   "outputs": [],
   "source": []
  },
  {
   "cell_type": "code",
   "execution_count": null,
   "id": "19653f13-d45c-4b9f-bda0-1193c424094b",
   "metadata": {},
   "outputs": [],
   "source": []
  },
  {
   "cell_type": "code",
   "execution_count": null,
   "id": "dbdf52e9-3a47-4bc4-8057-8a6891f5aa2d",
   "metadata": {},
   "outputs": [],
   "source": []
  },
  {
   "cell_type": "code",
   "execution_count": null,
   "id": "79a820bf-d6a0-459e-8de2-956e09ae5dfd",
   "metadata": {},
   "outputs": [],
   "source": []
  }
 ],
 "metadata": {
  "kernelspec": {
   "display_name": "Python 3 (ipykernel)",
   "language": "python",
   "name": "python3"
  },
  "language_info": {
   "codemirror_mode": {
    "name": "ipython",
    "version": 3
   },
   "file_extension": ".py",
   "mimetype": "text/x-python",
   "name": "python",
   "nbconvert_exporter": "python",
   "pygments_lexer": "ipython3",
   "version": "3.8.10"
  }
 },
 "nbformat": 4,
 "nbformat_minor": 5
}
