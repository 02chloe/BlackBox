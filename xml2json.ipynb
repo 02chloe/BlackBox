{
 "cells": [
  {
   "cell_type": "code",
   "execution_count": null,
   "id": "faa5fdda-3608-45fe-85ab-52cae798befa",
   "metadata": {},
   "outputs": [],
   "source": []
  },
  {
   "cell_type": "code",
   "execution_count": null,
   "id": "360ad7d3-87f8-4847-b3d4-494f8ea2af55",
   "metadata": {},
   "outputs": [],
   "source": []
  },
  {
   "cell_type": "code",
   "execution_count": 2,
   "id": "1ae219f5-cf73-4da3-ac1a-eeaffb5378cd",
   "metadata": {},
   "outputs": [
    {
     "name": "stderr",
     "output_type": "stream",
     "text": [
      "处理Train集: 100%|██████████| 614/614 [00:00<00:00, 743.89it/s]\n"
     ]
    },
    {
     "name": "stdout",
     "output_type": "stream",
     "text": [
      "成功生成 /opt/data/private/BlackBox/data/INRIAPerson/inria_Train_annotations.json，包含 614 个样本\n"
     ]
    },
    {
     "name": "stderr",
     "output_type": "stream",
     "text": [
      "处理Test集: 100%|██████████| 288/288 [00:00<00:00, 2001.36it/s]"
     ]
    },
    {
     "name": "stdout",
     "output_type": "stream",
     "text": [
      "成功生成 /opt/data/private/BlackBox/data/INRIAPerson/inria_Test_annotations.json，包含 288 个样本\n"
     ]
    },
    {
     "name": "stderr",
     "output_type": "stream",
     "text": [
      "\n"
     ]
    }
   ],
   "source": [
    "import os\n",
    "import json\n",
    "import xml.etree.ElementTree as ET\n",
    "from tqdm import tqdm\n",
    "\n",
    "def parse_xml_annotations(xml_path):\n",
    "    \"\"\"解析单个XML标注文件，返回边界框列表\"\"\"\n",
    "    try:\n",
    "        tree = ET.parse(xml_path)\n",
    "        root = tree.getroot()\n",
    "        \n",
    "        boxes = []\n",
    "        # 遍历所有目标\n",
    "        for obj in root.iter('object'):\n",
    "            bbox = obj.find('bndbox')\n",
    "            if bbox is None:\n",
    "                continue\n",
    "            # 提取边界框坐标（xmin, ymin, xmax, ymax）\n",
    "            xmin = float(bbox.find('xmin').text)\n",
    "            ymin = float(bbox.find('ymin').text)\n",
    "            xmax = float(bbox.find('xmax').text)\n",
    "            ymax = float(bbox.find('ymax').text)\n",
    "            boxes.append([xmin, ymin, xmax, ymax])\n",
    "        \n",
    "        return boxes\n",
    "    except Exception as e:\n",
    "        print(f\"解析XML出错 {xml_path}: {e}\")\n",
    "        return []\n",
    "\n",
    "def generate_annotations_json(data_root, split):\n",
    "    \"\"\"生成指定split（Train/Test）的标注JSON文件\"\"\"\n",
    "    # 定义路径\n",
    "    annotations_dir = os.path.join(data_root, split, \"Annotations\")\n",
    "    images_dir = os.path.join(data_root, split, \"JPEGImages\")\n",
    "    output_path = os.path.join(data_root, f\"inria_{split}_annotations.json\")\n",
    "    \n",
    "    # 检查路径是否存在\n",
    "    if not os.path.exists(annotations_dir):\n",
    "        raise ValueError(f\"标注文件夹不存在: {annotations_dir}\")\n",
    "    if not os.path.exists(images_dir):\n",
    "        raise ValueError(f\"图片文件夹不存在: {images_dir}\")\n",
    "    \n",
    "    # 收集所有标注信息\n",
    "    annotations_list = []\n",
    "    xml_files = [f for f in os.listdir(annotations_dir) if f.endswith('.xml')]\n",
    "    \n",
    "    for xml_file in tqdm(xml_files, desc=f\"处理{split}集\"):\n",
    "        # 获取文件名（不含扩展名）\n",
    "        base_name = os.path.splitext(xml_file)[0]\n",
    "        # 构建图片路径（支持png格式）\n",
    "        image_path = os.path.join(images_dir, f\"{base_name}.png\")\n",
    "        \n",
    "        # 检查图片文件是否存在\n",
    "        if not os.path.exists(image_path):\n",
    "            print(f\"警告: 图片文件不存在 {image_path}，跳过该标注\")\n",
    "            continue\n",
    "        \n",
    "        # 解析XML获取边界框\n",
    "        xml_path = os.path.join(annotations_dir, xml_file)\n",
    "        boxes = parse_xml_annotations(xml_path)\n",
    "        \n",
    "        # 添加到标注列表\n",
    "        annotations_list.append({\n",
    "            \"image_path\": image_path,  # 图片绝对路径或相对路径（根据实际使用场景调整）\n",
    "            \"boxes\": boxes             # 边界框列表，每个框为[xmin, ymin, xmax, ymax]\n",
    "        })\n",
    "    \n",
    "    # 保存为JSON文件\n",
    "    with open(output_path, 'w', encoding='utf-8') as f:\n",
    "        json.dump(annotations_list, f, ensure_ascii=False, indent=2)\n",
    "    \n",
    "    print(f\"成功生成 {output_path}，包含 {len(annotations_list)} 个样本\")\n",
    "\n",
    "if __name__ == \"__main__\":\n",
    "    # 数据集根目录（根据实际路径修改）\n",
    "    DATA_ROOT = \"/opt/data/private/BlackBox/data/INRIAPerson\"\n",
    "    \n",
    "    # 生成训练集和测试集标注\n",
    "    generate_annotations_json(DATA_ROOT, \"Train\")\n",
    "    generate_annotations_json(DATA_ROOT, \"Test\")"
   ]
  },
  {
   "cell_type": "code",
   "execution_count": null,
   "id": "2e0430a1-9ed4-4db3-a0c4-4af8178e0dfe",
   "metadata": {},
   "outputs": [],
   "source": []
  }
 ],
 "metadata": {
  "kernelspec": {
   "display_name": "Python 3 (ipykernel)",
   "language": "python",
   "name": "python3"
  },
  "language_info": {
   "codemirror_mode": {
    "name": "ipython",
    "version": 3
   },
   "file_extension": ".py",
   "mimetype": "text/x-python",
   "name": "python",
   "nbconvert_exporter": "python",
   "pygments_lexer": "ipython3",
   "version": "3.8.10"
  }
 },
 "nbformat": 4,
 "nbformat_minor": 5
}
